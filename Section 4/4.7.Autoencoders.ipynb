{
 "cells": [
  {
   "cell_type": "markdown",
   "metadata": {
    "collapsed": false
   },
   "source": [
    "# Autoencoders"
   ]
  },
  {
   "cell_type": "code",
   "execution_count": 1,
   "metadata": {
    "collapsed": false
   },
   "outputs": [
   ],
   "source": [
    "import torch\n",
    "import torch.utils.data\n",
    "from torch import nn, optim\n",
    "from torch.nn import functional as F\n",
    "from torchvision import datasets, transforms\n",
    "from torchvision.utils import save_image\n",
    "from torchvision.utils import make_grid\n",
    "from torch.utils.tensorboard import SummaryWriter\n",
    "\n",
    "\n",
    "seed=1\n",
    "device = torch.device(\"cuda\" if torch.cuda.is_available() else \"cpu\")"
   ]
  },
  {
   "cell_type": "markdown",
   "metadata": {
    "collapsed": false
   },
   "source": [
    "# Dataset\n",
    "MNIST dataset will be used"
   ]
  },
  {
   "cell_type": "code",
   "execution_count": 2,
   "metadata": {
    "collapsed": false
   },
   "outputs": [
    {
     "name": "stdout",
     "output_type": "stream",
     "text": [
      "Run the following command in terminal:\n",
      "tensorboard --logdir runs --bind_all\n"
     ]
    },
    {
     "data": {
      "text/html": [
       "<p><p>Tensorboard URL: <a href=\"https://mlhep.coresearch.club/e43509a3-d19b-4dec-bdfe-e4e6c53e5648/server/6006/\">https://mlhep.coresearch.club/e43509a3-d19b-4dec-bdfe-e4e6c53e5648/server/6006/</a></p></p>"
      ],
      "text/plain": [
       "<IPython.core.display.HTML object>"
      ]
     },
     "execution_count": 2,
     "metadata": {
     },
     "output_type": "execute_result"
    }
   ],
   "source": [
    "from IPython.core.display import HTML\n",
    "from markdown import markdown\n",
    "import os\n",
    "\n",
    "print('Run the following command in terminal:')\n",
    "print('tensorboard --logdir runs --bind_all')\n",
    "\n",
    "markdown_string = f\"Tensorboard URL: [https://mlhep.coresearch.club/{os.environ['COCALC_PROJECT_ID']}/server/6006/](https://mlhep.coresearch.club/{os.environ['COCALC_PROJECT_ID']}/server/6006/)\"\n",
    "writer = SummaryWriter('runs/')\n",
    "\n",
    "HTML(\"<p>{}</p>\".format(markdown(markdown_string)))"
   ]
  },
  {
   "cell_type": "code",
   "execution_count": 3,
   "metadata": {
    "collapsed": false
   },
   "outputs": [
   ],
   "source": [
    "batch_size=128\n",
    "kwargs = {'num_workers': 1, 'pin_memory': True} if torch.cuda.is_available() else {}\n",
    "\n",
    "mnist_transforms = transforms.Compose([ \n",
    "    transforms.ToTensor(), # PIL Image -> Tensor\n",
    "#     transforms.Lambda(lambda x: x/255.),\n",
    "])\n",
    "\n",
    "train_loader = torch.utils.data.DataLoader(\n",
    "    datasets.MNIST('../../../share', train=True,\n",
    "                   transform=mnist_transforms),\n",
    "    batch_size=batch_size, shuffle=True, **kwargs)\n",
    "\n",
    "test_loader = torch.utils.data.DataLoader(\n",
    "    datasets.MNIST('../../../share', train=False, transform=mnist_transforms),\n",
    "    batch_size=batch_size, shuffle=True, **kwargs)"
   ]
  },
  {
   "cell_type": "code",
   "execution_count": 4,
   "metadata": {
    "collapsed": false
   },
   "outputs": [
    {
     "data": {
      "text/plain": [
       "<matplotlib.image.AxesImage at 0x7fda8728ef98>"
      ]
     },
     "execution_count": 4,
     "metadata": {
     },
     "output_type": "execute_result"
    },
    {
     "data": {
      "image/png": "[encoded data removed]",
      "text/plain": [
       "<Figure size 432x288 with 1 Axes>"
      ]
     },
     "execution_count": 4,
     "metadata": {
     },
     "output_type": "execute_result"
    }
   ],
   "source": [
    "image, label = next(iter(train_loader))\n",
    "image.shape\n",
    "%matplotlib inline\n",
    "import matplotlib.pyplot as plt\n",
    "indx = 0\n",
    "plt.title(f'MNIST: {label[indx].item()}')\n",
    "plt.imshow(image[indx].squeeze(0))"
   ]
  },
  {
   "cell_type": "markdown",
   "metadata": {
    "collapsed": false
   },
   "source": [
    "## Autoencoder model\n",
    "![](http://bjlkeng.github.io/images/autoencoder_structure.png)"
   ]
  },
  {
   "cell_type": "code",
   "execution_count": 5,
   "metadata": {
    "collapsed": false,
    "nbgrader": {
     "cell_type": "code",
     "checksum": "48d4531f5dd7aba719d8f2a87adc70d1",
     "grade": false,
     "grade_id": "6404ff",
     "locked": false,
     "schema_version": 3,
     "solution": true,
     "task": false
    }
   },
   "outputs": [
   ],
   "source": [
    "class AE(nn.Module):\n",
    "    def __init__(self, hidden_size=20):\n",
    "        super(AE, self).__init__()\n",
    "        self.hidden_size = hidden_size\n",
    "        \n",
    "        # Define self.encoder and self.decoder ()\n",
    "        \n",
    "        self.encoder = nn.Sequential(\n",
    "            nn.Linear(784, 400),\n",
    "            nn.ReLU(),\n",
    "            nn.Linear(400, hidden_size)\n",
    "        )\n",
    "        \n",
    "        self.decoder = nn.Sequential(\n",
    "            nn.Linear(hidden_size, 400),\n",
    "            nn.ReLU(),\n",
    "            nn.Linear(400, 784),\n",
    "            nn.Sigmoid()\n",
    "        )\n",
    "\n",
    "    def encode(self, x): return self.encoder(x.view(-1, 784))\n",
    "\n",
    "    def decode(self, z): return self.decoder(z).view(-1,28,28)\n",
    "\n",
    "    def forward(self, x): return self.decode(self.encode(x))\n",
    "\n",
    "    def sample(self, size): return self.decode(torch.randn(size, self.hidden_size).to(self.device))\n",
    "    @property\n",
    "    def device(self): return next(self.parameters()).device\n",
    "\n",
    "\n",
    "model = AE().to(device)\n",
    "optimizer = optim.Adam(model.parameters(), lr=1e-3)"
   ]
  },
  {
   "cell_type": "code",
   "execution_count": 6,
   "metadata": {
    "collapsed": false,
    "deletable": false,
    "editable": false,
    "nbgrader": {
     "grade": true,
     "grade_id": "eba360",
     "locked": true,
     "points": 1,
     "schema_version": 3,
     "solution": false,
     "task": false
    }
   },
   "outputs": [
   ],
   "source": [
    "for batch_idx, (data, _) in enumerate(train_loader):\n",
    "    data_recon = model(data.to(device))\n",
    "    assert data_recon.shape == torch.Size([128,28,28])\n",
    "    break"
   ]
  },
  {
   "cell_type": "markdown",
   "metadata": {
    "collapsed": false
   },
   "source": [
    "## Train model"
   ]
  },
  {
   "cell_type": "code",
   "execution_count": 7,
   "metadata": {
    "collapsed": false,
    "nbgrader": {
     "cell_type": "code",
     "checksum": "37847e1d1fab8625cd63b3b3a600029c",
     "grade": false,
     "grade_id": "0e68e0",
     "locked": false,
     "schema_version": 3,
     "solution": true,
     "task": false
    }
   },
   "outputs": [
    {
     "name": "stdout",
     "output_type": "stream",
     "text": [
      "====> Epoch: 1 Average loss: 27.9748\n"
     ]
    },
    {
     "name": "stdout",
     "output_type": "stream",
     "text": [
      "====> Epoch: 2 Average loss: 11.3147\n"
     ]
    },
    {
     "name": "stdout",
     "output_type": "stream",
     "text": [
      "====> Epoch: 3 Average loss: 9.4842\n"
     ]
    },
    {
     "name": "stdout",
     "output_type": "stream",
     "text": [
      "====> Epoch: 4 Average loss: 8.6257\n"
     ]
    },
    {
     "name": "stdout",
     "output_type": "stream",
     "text": [
      "====> Epoch: 5 Average loss: 8.0475\n"
     ]
    },
    {
     "name": "stdout",
     "output_type": "stream",
     "text": [
      "====> Epoch: 6 Average loss: 7.6290\n"
     ]
    },
    {
     "name": "stdout",
     "output_type": "stream",
     "text": [
      "====> Epoch: 7 Average loss: 7.3017\n"
     ]
    },
    {
     "name": "stdout",
     "output_type": "stream",
     "text": [
      "====> Epoch: 8 Average loss: 7.0449\n"
     ]
    },
    {
     "name": "stdout",
     "output_type": "stream",
     "text": [
      "====> Epoch: 9 Average loss: 6.8332\n"
     ]
    },
    {
     "name": "stdout",
     "output_type": "stream",
     "text": [
      "====> Epoch: 10 Average loss: 6.6526\n"
     ]
    },
    {
     "name": "stdout",
     "output_type": "stream",
     "text": [
      "====> Epoch: 11 Average loss: 6.5026\n"
     ]
    },
    {
     "name": "stdout",
     "output_type": "stream",
     "text": [
      "====> Epoch: 12 Average loss: 6.3717\n"
     ]
    },
    {
     "name": "stdout",
     "output_type": "stream",
     "text": [
      "====> Epoch: 13 Average loss: 6.2540\n"
     ]
    },
    {
     "name": "stdout",
     "output_type": "stream",
     "text": [
      "====> Epoch: 14 Average loss: 6.1518\n"
     ]
    },
    {
     "name": "stdout",
     "output_type": "stream",
     "text": [
      "====> Epoch: 15 Average loss: 6.0677\n"
     ]
    },
    {
     "name": "stdout",
     "output_type": "stream",
     "text": [
      "====> Epoch: 16 Average loss: 5.9801\n"
     ]
    },
    {
     "name": "stdout",
     "output_type": "stream",
     "text": [
      "====> Epoch: 17 Average loss: 5.9078\n"
     ]
    },
    {
     "name": "stdout",
     "output_type": "stream",
     "text": [
      "====> Epoch: 18 Average loss: 5.8457\n"
     ]
    },
    {
     "name": "stdout",
     "output_type": "stream",
     "text": [
      "====> Epoch: 19 Average loss: 5.7835\n"
     ]
    },
    {
     "name": "stdout",
     "output_type": "stream",
     "text": [
      "====> Epoch: 20 Average loss: 5.7306\n"
     ]
    },
    {
     "name": "stdout",
     "output_type": "stream",
     "text": [
      "====> Epoch: 21 Average loss: 5.6797\n"
     ]
    },
    {
     "name": "stdout",
     "output_type": "stream",
     "text": [
      "====> Epoch: 22 Average loss: 5.6296\n"
     ]
    },
    {
     "name": "stdout",
     "output_type": "stream",
     "text": [
      "====> Epoch: 23 Average loss: 5.5834\n"
     ]
    },
    {
     "name": "stdout",
     "output_type": "stream",
     "text": [
      "====> Epoch: 24 Average loss: 5.5459\n"
     ]
    },
    {
     "name": "stdout",
     "output_type": "stream",
     "text": [
      "====> Epoch: 25 Average loss: 5.5090\n"
     ]
    },
    {
     "name": "stdout",
     "output_type": "stream",
     "text": [
      "====> Epoch: 26 Average loss: 5.4695\n"
     ]
    },
    {
     "name": "stdout",
     "output_type": "stream",
     "text": [
      "====> Epoch: 27 Average loss: 5.4367\n"
     ]
    },
    {
     "name": "stdout",
     "output_type": "stream",
     "text": [
      "====> Epoch: 28 Average loss: 5.3989\n"
     ]
    },
    {
     "name": "stdout",
     "output_type": "stream",
     "text": [
      "====> Epoch: 29 Average loss: 5.3745\n"
     ]
    },
    {
     "name": "stdout",
     "output_type": "stream",
     "text": [
      "====> Epoch: 30 Average loss: 5.3434\n"
     ]
    }
   ],
   "source": [
    "def recon_loss(recon_x, x):\n",
    "    #\n",
    "    MSE = F.mse_loss(recon_x.view(-1, 784), x.view(-1, 784), reduction='sum')\n",
    "    return MSE\n",
    "\n",
    "\n",
    "log_interval=10\n",
    "epochs=30\n",
    "\n",
    "def train(epoch):\n",
    "    model.train()\n",
    "    train_loss = 0\n",
    "    #\n",
    "    for idx, (data, _) in enumerate(train_loader):\n",
    "        data = data.to(device)\n",
    "        optimizer.zero_grad()\n",
    "        recon_batch = model(data)\n",
    "        loss = recon_loss(recon_batch, data)\n",
    "        loss.backward()\n",
    "        train_loss += loss.item()\n",
    "        optimizer.step()\n",
    "\n",
    "    train_loss /= len(train_loader.dataset)\n",
    "    writer.add_scalar('ae/train_loss', train_loss)\n",
    "\n",
    "    print('====> Epoch: {} Average loss: {:.4f}'.format(epoch, train_loss))\n",
    "\n",
    "\n",
    "def test(epoch):\n",
    "    model.eval()\n",
    "    test_loss = 0\n",
    "    #\n",
    "    with torch.no_grad():\n",
    "        for i, (data, _) in enumerate(test_loader):\n",
    "            data = data.to(device)\n",
    "            recon_batch = model(data)\n",
    "            test_loss += recon_loss(recon_batch, data).item()\n",
    "\n",
    "    test_loss /= len(test_loader.dataset)\n",
    "    writer.add_scalar('ae/test_loss', test_loss)\n",
    "    return test_loss\n",
    "\n",
    "for epoch in range(1, epochs + 1):\n",
    "    train(epoch)\n",
    "    test_loss = test(epoch)\n",
    "    with torch.no_grad():\n",
    "        sample_size=64\n",
    "        sample = model.sample(sample_size).cpu()\n",
    "        img = make_grid(sample.view(-1,1,28,28))\n",
    "        writer.add_image('ae/test_image', img, epoch)"
   ]
  },
  {
   "cell_type": "code",
   "execution_count": 0,
   "metadata": {
    "collapsed": false,
    "deletable": false,
    "editable": false,
    "nbgrader": {
     "grade": true,
     "grade_id": "a31e56",
     "locked": true,
     "points": 2,
     "schema_version": 3,
     "solution": false,
     "task": false
    }
   },
   "outputs": [
   ],
   "source": [
   ]
  },
  {
   "cell_type": "code",
   "execution_count": 8,
   "metadata": {
    "collapsed": false
   },
   "outputs": [
    {
     "data": {
      "text/plain": [
       "<matplotlib.image.AxesImage at 0x7fda871a2828>"
      ]
     },
     "execution_count": 8,
     "metadata": {
     },
     "output_type": "execute_result"
    },
    {
     "data": {
      "image/png": "[encoded data removed]",
      "text/plain": [
       "<Figure size 432x288 with 1 Axes>"
      ]
     },
     "execution_count": 8,
     "metadata": {
     },
     "output_type": "execute_result"
    }
   ],
   "source": [
    "img = (img.permute((1,2,0))*255).detach().cpu().numpy().astype('uint8').squeeze()\n",
    "plt.imshow(img)"
   ]
  },
  {
   "cell_type": "markdown",
   "metadata": {
    "collapsed": false
   },
   "source": [
    "# Denoising autoencoder"
   ]
  },
  {
   "cell_type": "code",
   "execution_count": 9,
   "metadata": {
    "collapsed": false,
    "nbgrader": {
     "checksum": "8c20f7cd9ac00e7e8e0562118e1ca658",
     "grade": false,
     "grade_id": "e74702",
     "locked": false,
     "schema_version": 3,
     "solution": true,
     "task": false
    }
   },
   "outputs": [
    {
     "name": "stdout",
     "output_type": "stream",
     "text": [
      "====> Epoch: 1 Average loss: 28.4229\n"
     ]
    },
    {
     "name": "stdout",
     "output_type": "stream",
     "text": [
      "====> Epoch: 2 Average loss: 11.5697\n"
     ]
    },
    {
     "name": "stdout",
     "output_type": "stream",
     "text": [
      "====> Epoch: 3 Average loss: 9.6484\n"
     ]
    },
    {
     "name": "stdout",
     "output_type": "stream",
     "text": [
      "====> Epoch: 4 Average loss: 8.7787\n"
     ]
    },
    {
     "name": "stdout",
     "output_type": "stream",
     "text": [
      "====> Epoch: 5 Average loss: 8.1875\n"
     ]
    },
    {
     "name": "stdout",
     "output_type": "stream",
     "text": [
      "====> Epoch: 6 Average loss: 7.7562\n"
     ]
    },
    {
     "name": "stdout",
     "output_type": "stream",
     "text": [
      "====> Epoch: 7 Average loss: 7.4280\n"
     ]
    },
    {
     "name": "stdout",
     "output_type": "stream",
     "text": [
      "====> Epoch: 8 Average loss: 7.1625\n"
     ]
    },
    {
     "name": "stdout",
     "output_type": "stream",
     "text": [
      "====> Epoch: 9 Average loss: 6.9420\n"
     ]
    },
    {
     "name": "stdout",
     "output_type": "stream",
     "text": [
      "====> Epoch: 10 Average loss: 6.7540\n"
     ]
    },
    {
     "name": "stdout",
     "output_type": "stream",
     "text": [
      "====> Epoch: 11 Average loss: 6.5986\n"
     ]
    },
    {
     "name": "stdout",
     "output_type": "stream",
     "text": [
      "====> Epoch: 12 Average loss: 6.4594\n"
     ]
    },
    {
     "name": "stdout",
     "output_type": "stream",
     "text": [
      "====> Epoch: 13 Average loss: 6.3433\n"
     ]
    },
    {
     "name": "stdout",
     "output_type": "stream",
     "text": [
      "====> Epoch: 14 Average loss: 6.2330\n"
     ]
    },
    {
     "name": "stdout",
     "output_type": "stream",
     "text": [
      "====> Epoch: 15 Average loss: 6.1436\n"
     ]
    },
    {
     "name": "stdout",
     "output_type": "stream",
     "text": [
      "====> Epoch: 16 Average loss: 6.0579\n"
     ]
    },
    {
     "name": "stdout",
     "output_type": "stream",
     "text": [
      "====> Epoch: 17 Average loss: 5.9822\n"
     ]
    },
    {
     "name": "stdout",
     "output_type": "stream",
     "text": [
      "====> Epoch: 18 Average loss: 5.9166\n"
     ]
    },
    {
     "name": "stdout",
     "output_type": "stream",
     "text": [
      "====> Epoch: 19 Average loss: 5.8540\n"
     ]
    },
    {
     "name": "stdout",
     "output_type": "stream",
     "text": [
      "====> Epoch: 20 Average loss: 5.8000\n"
     ]
    },
    {
     "name": "stdout",
     "output_type": "stream",
     "text": [
      "====> Epoch: 21 Average loss: 5.7517\n"
     ]
    },
    {
     "name": "stdout",
     "output_type": "stream",
     "text": [
      "====> Epoch: 22 Average loss: 5.6991\n"
     ]
    },
    {
     "name": "stdout",
     "output_type": "stream",
     "text": [
      "====> Epoch: 23 Average loss: 5.6563\n"
     ]
    },
    {
     "name": "stdout",
     "output_type": "stream",
     "text": [
      "====> Epoch: 24 Average loss: 5.6095\n"
     ]
    },
    {
     "name": "stdout",
     "output_type": "stream",
     "text": [
      "====> Epoch: 25 Average loss: 5.5750\n"
     ]
    },
    {
     "name": "stdout",
     "output_type": "stream",
     "text": [
      "====> Epoch: 26 Average loss: 5.5359\n"
     ]
    },
    {
     "name": "stdout",
     "output_type": "stream",
     "text": [
      "====> Epoch: 27 Average loss: 5.5040\n"
     ]
    },
    {
     "name": "stdout",
     "output_type": "stream",
     "text": [
      "====> Epoch: 28 Average loss: 5.4773\n"
     ]
    },
    {
     "name": "stdout",
     "output_type": "stream",
     "text": [
      "====> Epoch: 29 Average loss: 5.4429\n"
     ]
    },
    {
     "name": "stdout",
     "output_type": "stream",
     "text": [
      "====> Epoch: 30 Average loss: 5.4169\n"
     ]
    }
   ],
   "source": [
    "model = AE().to(device)\n",
    "optimizer = optim.Adam(model.parameters(), lr=1e-3)\n",
    "\n",
    "def recon_loss(recon_x, x):\n",
    "    #\n",
    "    MSE = F.mse_loss(recon_x.view(-1, 784), x.view(-1, 784), reduction='sum')\n",
    "    return MSE\n",
    "\n",
    "\n",
    "# log_interval=10\n",
    "epochs=30\n",
    "\n",
    "def train(epoch,var=1e-2):\n",
    "    model.train()\n",
    "    train_loss = 0\n",
    "    # Add noise to image in training stage with \"var\" variance\n",
    "    #\n",
    "    for idx, (data, _) in enumerate(train_loader):\n",
    "        data = data.to(device)\n",
    "        optimizer.zero_grad()\n",
    "        recon_batch = model(data + var * torch.randn_like(data))\n",
    "        loss = recon_loss(recon_batch, data)\n",
    "        loss.backward()\n",
    "        train_loss += loss.item()\n",
    "        optimizer.step()\n",
    "\n",
    "    train_loss /= len(train_loader.dataset)\n",
    "    writer.add_scalar('dae/train_loss', train_loss)\n",
    "\n",
    "    print('====> Epoch: {} Average loss: {:.4f}'.format(epoch, train_loss))\n",
    "\n",
    "\n",
    "\n",
    "def test(epoch):\n",
    "    model.eval()\n",
    "    test_loss = 0\n",
    "    #\n",
    "    with torch.no_grad():\n",
    "        for i, (data, _) in enumerate(test_loader):\n",
    "            data = data.to(device)\n",
    "            recon_batch = model(data)\n",
    "            test_loss += recon_loss(recon_batch, data).item()\n",
    "\n",
    "    test_loss /= len(test_loader.dataset)\n",
    "    writer.add_scalar('dae/test_loss', test_loss)\n",
    "    return test_loss\n",
    "\n",
    "for epoch in range(1, epochs + 1):\n",
    "    train(epoch)\n",
    "    test_loss = test(epoch)\n",
    "    with torch.no_grad():\n",
    "        sample_size=64\n",
    "        sample = model.sample(sample_size).cpu()\n",
    "        img = make_grid(sample.view(-1,1,28,28))\n",
    "        writer.add_image('dae/test_image', img, epoch)\n",
    "        "
   ]
  },
  {
   "cell_type": "code",
   "execution_count": 0,
   "metadata": {
    "collapsed": false,
    "deletable": false,
    "editable": false,
    "nbgrader": {
     "grade": true,
     "grade_id": "5bf284",
     "locked": true,
     "points": 2,
     "schema_version": 3,
     "solution": false,
     "task": false
    }
   },
   "outputs": [
   ],
   "source": [
   ]
  },
  {
   "cell_type": "code",
   "execution_count": 10,
   "metadata": {
    "collapsed": false
   },
   "outputs": [
    {
     "data": {
      "text/plain": [
       "<matplotlib.image.AxesImage at 0x7fda84fd9240>"
      ]
     },
     "execution_count": 10,
     "metadata": {
     },
     "output_type": "execute_result"
    },
    {
     "data": {
      "image/png": "[encoded data removed]",
      "text/plain": [
       "<Figure size 432x288 with 1 Axes>"
      ]
     },
     "execution_count": 10,
     "metadata": {
     },
     "output_type": "execute_result"
    }
   ],
   "source": [
    "img = (img.permute((1,2,0))*255).detach().cpu().numpy().astype('uint8').squeeze()\n",
    "plt.imshow(img)"
   ]
  },
  {
   "cell_type": "markdown",
   "metadata": {
    "collapsed": false
   },
   "source": [
    "# Sparse autoencoder"
   ]
  },
  {
   "cell_type": "code",
   "execution_count": 11,
   "metadata": {
    "collapsed": false,
    "nbgrader": {
     "checksum": "acc02b273a7f953c0542b8925bf48200",
     "grade": false,
     "grade_id": "bf98a3",
     "locked": false,
     "schema_version": 3,
     "solution": true,
     "task": false
    }
   },
   "outputs": [
    {
     "name": "stdout",
     "output_type": "stream",
     "text": [
      "====> Epoch: 1 Average loss: 31.7349 Reg loss: 0.0396\n"
     ]
    },
    {
     "name": "stdout",
     "output_type": "stream",
     "text": [
      "====> Epoch: 2 Average loss: 17.9933 Reg loss: 0.0488\n"
     ]
    },
    {
     "name": "stdout",
     "output_type": "stream",
     "text": [
      "====> Epoch: 3 Average loss: 16.2383 Reg loss: 0.0525\n"
     ]
    },
    {
     "name": "stdout",
     "output_type": "stream",
     "text": [
      "====> Epoch: 4 Average loss: 15.2044 Reg loss: 0.0543\n"
     ]
    },
    {
     "name": "stdout",
     "output_type": "stream",
     "text": [
      "====> Epoch: 5 Average loss: 14.4939 Reg loss: 0.0554\n"
     ]
    },
    {
     "name": "stdout",
     "output_type": "stream",
     "text": [
      "====> Epoch: 6 Average loss: 13.9516 Reg loss: 0.0559\n"
     ]
    },
    {
     "name": "stdout",
     "output_type": "stream",
     "text": [
      "====> Epoch: 7 Average loss: 13.5311 Reg loss: 0.0559\n"
     ]
    },
    {
     "name": "stdout",
     "output_type": "stream",
     "text": [
      "====> Epoch: 8 Average loss: 13.1870 Reg loss: 0.0563\n"
     ]
    },
    {
     "name": "stdout",
     "output_type": "stream",
     "text": [
      "====> Epoch: 9 Average loss: 12.9169 Reg loss: 0.0561\n"
     ]
    },
    {
     "name": "stdout",
     "output_type": "stream",
     "text": [
      "====> Epoch: 10 Average loss: 12.6854 Reg loss: 0.0557\n"
     ]
    },
    {
     "name": "stdout",
     "output_type": "stream",
     "text": [
      "====> Epoch: 11 Average loss: 12.4784 Reg loss: 0.0556\n"
     ]
    },
    {
     "name": "stdout",
     "output_type": "stream",
     "text": [
      "====> Epoch: 12 Average loss: 12.3025 Reg loss: 0.0553\n"
     ]
    },
    {
     "name": "stdout",
     "output_type": "stream",
     "text": [
      "====> Epoch: 13 Average loss: 12.1524 Reg loss: 0.0549\n"
     ]
    },
    {
     "name": "stdout",
     "output_type": "stream",
     "text": [
      "====> Epoch: 14 Average loss: 12.0145 Reg loss: 0.0545\n"
     ]
    },
    {
     "name": "stdout",
     "output_type": "stream",
     "text": [
      "====> Epoch: 15 Average loss: 11.8940 Reg loss: 0.0542\n"
     ]
    },
    {
     "name": "stdout",
     "output_type": "stream",
     "text": [
      "====> Epoch: 16 Average loss: 11.7682 Reg loss: 0.0539\n"
     ]
    },
    {
     "name": "stdout",
     "output_type": "stream",
     "text": [
      "====> Epoch: 17 Average loss: 11.6565 Reg loss: 0.0534\n"
     ]
    },
    {
     "name": "stdout",
     "output_type": "stream",
     "text": [
      "====> Epoch: 18 Average loss: 11.5608 Reg loss: 0.0532\n"
     ]
    },
    {
     "name": "stdout",
     "output_type": "stream",
     "text": [
      "====> Epoch: 19 Average loss: 11.4702 Reg loss: 0.0528\n"
     ]
    },
    {
     "name": "stdout",
     "output_type": "stream",
     "text": [
      "====> Epoch: 20 Average loss: 11.3852 Reg loss: 0.0524\n"
     ]
    },
    {
     "name": "stdout",
     "output_type": "stream",
     "text": [
      "====> Epoch: 21 Average loss: 11.3040 Reg loss: 0.0521\n"
     ]
    },
    {
     "name": "stdout",
     "output_type": "stream",
     "text": [
      "====> Epoch: 22 Average loss: 11.2326 Reg loss: 0.0517\n"
     ]
    },
    {
     "name": "stdout",
     "output_type": "stream",
     "text": [
      "====> Epoch: 23 Average loss: 11.1583 Reg loss: 0.0514\n"
     ]
    },
    {
     "name": "stdout",
     "output_type": "stream",
     "text": [
      "====> Epoch: 24 Average loss: 11.0891 Reg loss: 0.0511\n"
     ]
    },
    {
     "name": "stdout",
     "output_type": "stream",
     "text": [
      "====> Epoch: 25 Average loss: 11.0322 Reg loss: 0.0507\n"
     ]
    },
    {
     "name": "stdout",
     "output_type": "stream",
     "text": [
      "====> Epoch: 26 Average loss: 10.9710 Reg loss: 0.0504\n"
     ]
    },
    {
     "name": "stdout",
     "output_type": "stream",
     "text": [
      "====> Epoch: 27 Average loss: 10.9116 Reg loss: 0.0500\n"
     ]
    }
   ],
   "source": [
    "# Implement Sparse autoencoder with L1 regularization on each intermediate activation\n",
    "\n",
    "class SparseAE(nn.Module):\n",
    "    def __init__(self, hidden_size=20):\n",
    "        super(SparseAE, self).__init__()\n",
    "        self.hidden_size = hidden_size\n",
    "        \n",
    "        # Define self.encoder and self.decoder ()\n",
    "        \n",
    "        self.encoder = nn.Sequential(\n",
    "            nn.Linear(784, 400),\n",
    "            nn.ReLU(),\n",
    "            nn.Linear(400, hidden_size)\n",
    "        )\n",
    "        \n",
    "        self.decoder = nn.Sequential(\n",
    "            nn.Linear(hidden_size, 400),\n",
    "            nn.ReLU(),\n",
    "            nn.Linear(400, 784),\n",
    "            nn.Sigmoid()\n",
    "        )\n",
    "\n",
    "    def encode(self, x): return self.encoder(x.view(-1, 784))\n",
    "\n",
    "    def decode(self, z): return self.decoder(z).view(-1,28,28)\n",
    "\n",
    "    def forward(self, x):\n",
    "        #\n",
    "        reg_loss = 0\n",
    "        values = x.view(-1, 784)\n",
    "        for l in self.encoder.children():\n",
    "            values = F.relu(l(values))\n",
    "            reg_loss += torch.mean(torch.abs(values))\n",
    "        return self.decode(values), reg_loss\n",
    "\n",
    "    def sample(self, size):\n",
    "        #\n",
    "        return self.decode(torch.randn(size, self.hidden_size).to(self.device))\n",
    "\n",
    "    @property\n",
    "    def device(self): return next(self.parameters()).device\n",
    "\n",
    "model = SparseAE().to(device)\n",
    "optimizer = optim.Adam(model.parameters(), lr=1e-3)\n",
    "\n",
    "def recon_loss(recon_x, x):\n",
    "    #\n",
    "    MSE = F.mse_loss(recon_x.view(-1, 784), x.view(-1, 784), reduction =  'sum')\n",
    "    return MSE\n",
    "\n",
    "\n",
    "# log_interval=10\n",
    "epochs=30\n",
    "var = 1e-2\n",
    "\n",
    "def train(epoch):\n",
    "    model.train()\n",
    "    train_loss, train_loss_reg = 0, 0\n",
    "    #\n",
    "    for idx, (data, _) in enumerate(train_loader):\n",
    "        data = data.to(device)\n",
    "        optimizer.zero_grad()\n",
    "        recon_batch, reg_loss = model(data + var * torch.randn_like(data))\n",
    "        loss = recon_loss(recon_batch, data)\n",
    "        loss.backward(retain_graph=True)\n",
    "        reg_loss.backward()\n",
    "        train_loss += loss.item()\n",
    "        train_loss_reg += reg_loss.item()\n",
    "        optimizer.step()\n",
    "\n",
    "        \n",
    "    train_loss /= len(train_loader.dataset)\n",
    "    train_loss_reg /= len(train_loader.dataset)\n",
    "    writer.add_scalar('dae/train_loss', train_loss)\n",
    "    writer.add_scalar('dae/train_loss_reg', train_loss_reg)\n",
    "            \n",
    "    print('====> Epoch: {} Average loss: {:.4f} Reg loss: {:.4f}'.format(epoch, train_loss, train_loss_reg))\n",
    "\n",
    "\n",
    "def test(epoch):\n",
    "    model.eval()\n",
    "    test_loss, test_loss_reg = 0, 0\n",
    "    #\n",
    "    with torch.no_grad():\n",
    "        for i, (data, _) in enumerate(test_loader):\n",
    "            data = data.to(device)\n",
    "            recon_batch, reg_loss  = model(data)\n",
    "            test_loss += recon_loss(recon_batch, data).item()\n",
    "            test_loss_reg += reg_loss.item()\n",
    "\n",
    "    test_loss /= len(test_loader.dataset)\n",
    "    test_loss_reg /= len(test_loader.dataset)\n",
    "    writer.add_scalar('dae/test_loss', test_loss)\n",
    "    return test_loss, test_loss_reg\n",
    "\n",
    "for epoch in range(1, epochs + 1):\n",
    "    train(epoch)\n",
    "    test_loss, test_loss_reg = test(epoch)\n",
    "    with torch.no_grad():\n",
    "        sample_size=64\n",
    "        sample = model.sample(sample_size).cpu()\n",
    "        img = make_grid(sample.view(-1,1,28,28))\n",
    "        writer.add_image('sae/test_image', img, epoch)"
   ]
  },
  {
   "cell_type": "code",
   "execution_count": 0,
   "metadata": {
    "collapsed": false
   },
   "outputs": [
   ],
   "source": [
    "### BEGIN HIDDEN TESTS\n",
    "# students will NOT see these extra tests\n",
    "assert test_loss < 12\n",
    "assert test_loss_reg < 1\n",
    "### END HIDDEN TESTS"
   ]
  },
  {
   "cell_type": "code",
   "execution_count": 0,
   "metadata": {
    "collapsed": false
   },
   "outputs": [
   ],
   "source": [
    "img = (img.permute((1,2,0))*255).detach().cpu().numpy().astype('uint8').squeeze()\n",
    "plt.imshow(img)"
   ]
  },
  {
   "cell_type": "markdown",
   "metadata": {
    "collapsed": false
   },
   "source": [
    "# Links\n",
    "\n",
    "[Simple explanation of AE](http://bjlkeng.github.io/posts/autoregressive-autoencoders/)\n",
    "\n",
    "[Sparse autoencoder](https://debuggercafe.com/sparse-autoencoders-using-l1-regularization-with-pytorch/)\n",
    "\n",
    "[Denoising autoencoder](https://towardsdatascience.com/denoising-autoencoders-explained-dbb82467fc2)"
   ]
  },
  {
   "cell_type": "code",
   "execution_count": 0,
   "metadata": {
    "collapsed": false
   },
   "outputs": [
   ],
   "source": [
   ]
  }
 ],
 "metadata": {
  "kernelspec": {
   "display_name": "Python 3",
   "language": "python",
   "name": "python3"
  },
  "language_info": {
   "codemirror_mode": {
    "name": "ipython",
    "version": 3
   },
   "file_extension": ".py",
   "mimetype": "text/x-python",
   "name": "python",
   "nbconvert_exporter": "python",
   "pygments_lexer": "ipython3",
   "version": "3.6.9"
  }
 },
 "nbformat": 4,
 "nbformat_minor": 4
}